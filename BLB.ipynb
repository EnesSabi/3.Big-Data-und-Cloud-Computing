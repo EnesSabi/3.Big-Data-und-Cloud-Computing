{
 "cells": [
  {
   "cell_type": "code",
   "execution_count": 2,
   "id": "initial_id",
   "metadata": {
    "collapsed": true,
    "ExecuteTime": {
     "end_time": "2024-11-03T16:54:49.550316Z",
     "start_time": "2024-11-03T16:54:45.619037Z"
    }
   },
   "outputs": [],
   "source": [
    "import numpy as np\n",
    "from sklearn.utils import resample\n"
   ]
  },
  {
   "cell_type": "code",
   "outputs": [],
   "source": [
    "# Simulierter großer Datensatz\n",
    "np.random.seed(42)\n",
    "data = np.random.randn(10000)"
   ],
   "metadata": {
    "collapsed": false,
    "ExecuteTime": {
     "end_time": "2024-11-03T16:54:49.568537Z",
     "start_time": "2024-11-03T16:54:49.552459Z"
    }
   },
   "id": "838e11ed9b425669",
   "execution_count": 3
  },
  {
   "cell_type": "code",
   "outputs": [],
   "source": [
    "# Parameter für BLB\n",
    "num_subsamples = 10\n",
    "subsample_size = int(len(data) * 0.1)\n",
    "num_bootstrap_samples = 100"
   ],
   "metadata": {
    "collapsed": false,
    "ExecuteTime": {
     "end_time": "2024-11-03T16:54:49.582263Z",
     "start_time": "2024-11-03T16:54:49.572072Z"
    }
   },
   "id": "88005e5168ccf9b4",
   "execution_count": 4
  },
  {
   "cell_type": "code",
   "outputs": [
    {
     "name": "stdout",
     "output_type": "stream",
     "text": [
      "Mean estimate: -0.0111\n",
      "95% Confidence Interval: [-0.06506471  0.05473948]\n"
     ]
    }
   ],
   "source": [
    "# BLB-Verfahren\n",
    "bootstrap_estimates = []\n",
    "\n",
    "for i in range(num_subsamples):\n",
    "    # Ziehe ein zufälliges Subsample\n",
    "    subsample = np.random.choice(data, size=subsample_size, replace=False)\n",
    "    \n",
    "    # Berechne Bootstrap-Schätzer innerhalb des Subsamples\n",
    "    for j in range(num_bootstrap_samples):\n",
    "        bootstrap_sample = resample(subsample, n_samples=len(data), replace=True)\n",
    "        mean_estimate = np.mean(bootstrap_sample)\n",
    "        bootstrap_estimates.append(mean_estimate)\n",
    "\n",
    "# Ergebnisse analysieren\n",
    "bootstrap_estimates = np.array(bootstrap_estimates)\n",
    "mean_of_estimates = np.mean(bootstrap_estimates)\n",
    "confidence_interval = np.percentile(bootstrap_estimates, [2.5, 97.5])\n",
    "\n",
    "# Ausgabe der Ergebnisse\n",
    "print(f'Mean estimate: {mean_of_estimates:.4f}')\n",
    "print(f'95% Confidence Interval: {confidence_interval}')"
   ],
   "metadata": {
    "collapsed": false,
    "ExecuteTime": {
     "end_time": "2024-11-03T16:54:50.678511Z",
     "start_time": "2024-11-03T16:54:49.588279Z"
    }
   },
   "id": "a9d262eefeef1379",
   "execution_count": 5
  }
 ],
 "metadata": {
  "kernelspec": {
   "display_name": "Python 3",
   "language": "python",
   "name": "python3"
  },
  "language_info": {
   "codemirror_mode": {
    "name": "ipython",
    "version": 2
   },
   "file_extension": ".py",
   "mimetype": "text/x-python",
   "name": "python",
   "nbconvert_exporter": "python",
   "pygments_lexer": "ipython2",
   "version": "2.7.6"
  }
 },
 "nbformat": 4,
 "nbformat_minor": 5
}
